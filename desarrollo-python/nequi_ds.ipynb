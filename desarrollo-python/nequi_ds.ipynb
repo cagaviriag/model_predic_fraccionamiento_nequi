{
 "cells": [
  {
   "cell_type": "code",
   "execution_count": 1,
   "id": "9ea99b83-4bc9-42a6-865f-7e7159717043",
   "metadata": {
    "execution": {
     "iopub.execute_input": "2022-08-07T16:14:04.794946Z",
     "iopub.status.busy": "2022-08-07T16:14:04.794691Z",
     "iopub.status.idle": "2022-08-07T16:14:47.409630Z",
     "shell.execute_reply": "2022-08-07T16:14:47.409006Z",
     "shell.execute_reply.started": "2022-08-07T16:14:04.794915Z"
    },
    "tags": []
   },
   "outputs": [
    {
     "data": {
      "application/vnd.jupyter.widget-view+json": {
       "model_id": "85ebc16e69c64791a6d59da881d3f99e",
       "version_major": 2,
       "version_minor": 0
      },
      "text/plain": [
       "VBox()"
      ]
     },
     "metadata": {},
     "output_type": "display_data"
    },
    {
     "name": "stdout",
     "output_type": "stream",
     "text": [
      "Starting Spark application\n"
     ]
    },
    {
     "data": {
      "text/html": [
       "<table>\n",
       "<tr><th>ID</th><th>YARN Application ID</th><th>Kind</th><th>State</th><th>Spark UI</th><th>Driver log</th><th>Current session?</th></tr><tr><td>0</td><td>application_1659888315678_0002</td><td>pyspark</td><td>idle</td><td><a target=\"_blank\" href=\"http://ip-172-31-57-77.ec2.internal:20888/proxy/application_1659888315678_0002/\" class=\"emr-proxy-link\" emr-resource=\"j-3KHGQ6SYDWXQ8\n",
       "\" application-id=\"application_1659888315678_0002\">Link</a></td><td><a target=\"_blank\" href=\"http://ip-172-31-49-11.ec2.internal:8042/node/containerlogs/container_1659888315678_0002_01_000001/livy\" >Link</a></td><td>✔</td></tr></table>"
      ],
      "text/plain": [
       "<IPython.core.display.HTML object>"
      ]
     },
     "metadata": {},
     "output_type": "display_data"
    },
    {
     "data": {
      "application/vnd.jupyter.widget-view+json": {
       "model_id": "",
       "version_major": 2,
       "version_minor": 0
      },
      "text/plain": [
       "FloatProgress(value=0.0, bar_style='info', description='Progress:', layout=Layout(height='25px', width='50%'),…"
      ]
     },
     "metadata": {},
     "output_type": "display_data"
    },
    {
     "name": "stdout",
     "output_type": "stream",
     "text": [
      "SparkSession available as 'spark'.\n"
     ]
    },
    {
     "data": {
      "application/vnd.jupyter.widget-view+json": {
       "model_id": "",
       "version_major": 2,
       "version_minor": 0
      },
      "text/plain": [
       "FloatProgress(value=0.0, bar_style='info', description='Progress:', layout=Layout(height='25px', width='50%'),…"
      ]
     },
     "metadata": {},
     "output_type": "display_data"
    }
   ],
   "source": [
    "import pyspark\n",
    "from pyspark.sql import SparkSession\n",
    "from pyspark.sql.window import Window\n",
    "from pyspark.sql.functions import row_number\n",
    "from pyspark.sql.functions import col\n",
    "import pyspark.sql.functions as funcs\n",
    "from pyspark.sql.functions import when, col\n",
    "from pyspark.sql.functions import concat,col\n",
    "from pyspark.sql.functions import year\n",
    "from pyspark.sql.functions import month"
   ]
  },
  {
   "cell_type": "code",
   "execution_count": 2,
   "id": "403b9ccb-528f-4f82-aeb1-c818c1c7b4f5",
   "metadata": {
    "execution": {
     "iopub.execute_input": "2022-08-07T14:07:28.960636Z",
     "iopub.status.busy": "2022-08-07T14:07:28.960298Z",
     "iopub.status.idle": "2022-08-07T14:07:30.336152Z",
     "shell.execute_reply": "2022-08-07T14:07:30.335002Z",
     "shell.execute_reply.started": "2022-08-07T14:07:28.960585Z"
    },
    "tags": []
   },
   "outputs": [
    {
     "data": {
      "application/vnd.jupyter.widget-view+json": {
       "model_id": "262352a28b1148bda6abfe00d1722498",
       "version_major": 2,
       "version_minor": 0
      },
      "text/plain": [
       "VBox()"
      ]
     },
     "metadata": {},
     "output_type": "display_data"
    },
    {
     "data": {
      "application/vnd.jupyter.widget-view+json": {
       "model_id": "",
       "version_major": 2,
       "version_minor": 0
      },
      "text/plain": [
       "FloatProgress(value=0.0, bar_style='info', description='Progress:', layout=Layout(height='25px', width='50%'),…"
      ]
     },
     "metadata": {},
     "output_type": "display_data"
    }
   ],
   "source": [
    "#spark = SparkSession.builder.master(\"local[*]\").appName('SparkByExamples.com').getOrCreate()"
   ]
  },
  {
   "cell_type": "code",
   "execution_count": 2,
   "id": "6ad0f343-023b-4d1b-94c9-b2ff38e55628",
   "metadata": {
    "execution": {
     "iopub.execute_input": "2022-08-07T16:14:56.618228Z",
     "iopub.status.busy": "2022-08-07T16:14:56.617992Z",
     "iopub.status.idle": "2022-08-07T16:15:06.059761Z",
     "shell.execute_reply": "2022-08-07T16:15:06.059156Z",
     "shell.execute_reply.started": "2022-08-07T16:14:56.618200Z"
    },
    "tags": []
   },
   "outputs": [
    {
     "data": {
      "application/vnd.jupyter.widget-view+json": {
       "model_id": "adab5c299be84fb9b15fd92ee9b2d57b",
       "version_major": 2,
       "version_minor": 0
      },
      "text/plain": [
       "VBox()"
      ]
     },
     "metadata": {},
     "output_type": "display_data"
    },
    {
     "data": {
      "application/vnd.jupyter.widget-view+json": {
       "model_id": "",
       "version_major": 2,
       "version_minor": 0
      },
      "text/plain": [
       "FloatProgress(value=0.0, bar_style='info', description='Progress:', layout=Layout(height='25px', width='50%'),…"
      ]
     },
     "metadata": {},
     "output_type": "display_data"
    }
   ],
   "source": [
    "parDF0001 = spark.read.format(\"parquet\").load(\"s3://cristian-gaviria-nequi/*.parquet\")"
   ]
  },
  {
   "cell_type": "code",
   "execution_count": 3,
   "id": "a31a4ddf-eea4-4a6a-9a1c-2007d309f58f",
   "metadata": {
    "execution": {
     "iopub.execute_input": "2022-08-07T16:15:09.989597Z",
     "iopub.status.busy": "2022-08-07T16:15:09.989364Z",
     "iopub.status.idle": "2022-08-07T16:15:10.289962Z",
     "shell.execute_reply": "2022-08-07T16:15:10.289112Z",
     "shell.execute_reply.started": "2022-08-07T16:15:09.989569Z"
    },
    "tags": []
   },
   "outputs": [
    {
     "data": {
      "application/vnd.jupyter.widget-view+json": {
       "model_id": "8d2ce04f3726466e93eec51944e630bf",
       "version_major": 2,
       "version_minor": 0
      },
      "text/plain": [
       "VBox()"
      ]
     },
     "metadata": {},
     "output_type": "display_data"
    },
    {
     "data": {
      "application/vnd.jupyter.widget-view+json": {
       "model_id": "",
       "version_major": 2,
       "version_minor": 0
      },
      "text/plain": [
       "FloatProgress(value=0.0, bar_style='info', description='Progress:', layout=Layout(height='25px', width='50%'),…"
      ]
     },
     "metadata": {},
     "output_type": "display_data"
    }
   ],
   "source": [
    "parDF_total = parDF0001.distinct()"
   ]
  },
  {
   "cell_type": "code",
   "execution_count": 11,
   "id": "8020fb35-1328-4a43-a702-dd29de37a936",
   "metadata": {
    "execution": {
     "iopub.execute_input": "2022-08-07T00:24:59.018423Z",
     "iopub.status.busy": "2022-08-07T00:24:59.017981Z",
     "iopub.status.idle": "2022-08-07T00:35:50.055764Z",
     "shell.execute_reply": "2022-08-07T00:35:50.053925Z",
     "shell.execute_reply.started": "2022-08-07T00:24:59.018367Z"
    },
    "tags": []
   },
   "outputs": [
    {
     "data": {
      "application/vnd.jupyter.widget-view+json": {
       "model_id": "536814e6bbad4109b9960a3319939ad8",
       "version_major": 2,
       "version_minor": 0
      },
      "text/plain": [
       "VBox()"
      ]
     },
     "metadata": {},
     "output_type": "display_data"
    },
    {
     "data": {
      "application/vnd.jupyter.widget-view+json": {
       "model_id": "",
       "version_major": 2,
       "version_minor": 0
      },
      "text/plain": [
       "FloatProgress(value=0.0, bar_style='info', description='Progress:', layout=Layout(height='25px', width='50%'),…"
      ]
     },
     "metadata": {},
     "output_type": "display_data"
    }
   ],
   "source": [
    "cantidad_total = parDF0001.count()\n",
    "cantidad = parDF_total.count()\n",
    "reg_repetidos = cantidad_total - cantidad\n",
    "merchant_id_unicos = parDF_total.groupBy('merchant_id').count().orderBy('count').count()\n",
    "subsidiary_unicos = parDF_total.groupBy('subsidiary').count().orderBy('count').count()\n",
    "account_number_unicos = parDF_total.groupBy('account_number').count().orderBy('count').count()\n",
    "user_id_unicos = parDF_total.groupBy('user_id').count().orderBy('count').count()\n",
    "transaction_type_unicos = parDF_total.groupBy('transaction_type').count().orderBy('count').count()\n",
    "transaction_date_max = parDF_total.agg({\"transaction_date\": \"max\"}).collect()[0][0]\n",
    "transaction_date_min = parDF_total.agg({\"transaction_date\": \"min\"}).collect()[0][0]"
   ]
  },
  {
   "cell_type": "code",
   "execution_count": 13,
   "id": "403f2a94-1f06-4c2c-8ad0-c83ebc4cdc42",
   "metadata": {
    "execution": {
     "iopub.execute_input": "2022-08-07T00:37:54.646793Z",
     "iopub.status.busy": "2022-08-07T00:37:54.646463Z",
     "iopub.status.idle": "2022-08-07T00:37:54.741689Z",
     "shell.execute_reply": "2022-08-07T00:37:54.740480Z",
     "shell.execute_reply.started": "2022-08-07T00:37:54.646758Z"
    },
    "tags": []
   },
   "outputs": [
    {
     "data": {
      "application/vnd.jupyter.widget-view+json": {
       "model_id": "cf0bd92ab41a431fbeca6bdbc117e1f6",
       "version_major": 2,
       "version_minor": 0
      },
      "text/plain": [
       "VBox()"
      ]
     },
     "metadata": {},
     "output_type": "display_data"
    },
    {
     "data": {
      "application/vnd.jupyter.widget-view+json": {
       "model_id": "",
       "version_major": 2,
       "version_minor": 0
      },
      "text/plain": [
       "FloatProgress(value=0.0, bar_style='info', description='Progress:', layout=Layout(height='25px', width='50%'),…"
      ]
     },
     "metadata": {},
     "output_type": "display_data"
    },
    {
     "name": "stdout",
     "output_type": "stream",
     "text": [
      "Dimension base de datos                    86068972\n",
      "Dimension unicos base de datos             86068904\n",
      "Registros duplucados                       68\n",
      "Cantida de comercios unicas                3\n",
      "Cantida de sucursales unicas               17951\n",
      "fecha minina                               2021-01-01 00:00:02\n",
      "fecha maxima                               2021-11-30 23:59:53\n",
      "Cuentas destino unicas                     6098088\n",
      "Id usuaruias cuentas destino unicas        6047002\n",
      "Tipo transaacion                           2"
     ]
    }
   ],
   "source": [
    "print(\"Dimension base de datos                    {}\".format(cantidad_total)) # registros totales\n",
    "print(\"Dimension unicos base de datos             {}\".format(cantidad)) # registros unicos\n",
    "print(\"Registros duplucados                       {}\".format(reg_repetidos)) ## duplicados\n",
    "print(\"Cantida de comercios unicas                {}\".format(merchant_id_unicos)) ## Comercio\n",
    "print(\"Cantida de sucursales unicas               {}\".format(subsidiary_unicos)) ## sucursal\n",
    "print(\"fecha minina                               {}\".format(transaction_date_min)) ## fechas \n",
    "print(\"fecha maxima                               {}\".format(transaction_date_max)) ## fechas\n",
    "print(\"Cuentas destino unicas                     {}\".format(account_number_unicos)) ## cuenta destino\n",
    "print(\"Id usuaruias cuentas destino unicas        {}\".format(user_id_unicos)) ## usuario\n",
    "print(\"Tipo transaacion                           {}\".format(transaction_type_unicos))"
   ]
  },
  {
   "cell_type": "code",
   "execution_count": 4,
   "id": "a8414424-22c2-46a0-84a0-6098fedbe66b",
   "metadata": {
    "execution": {
     "iopub.execute_input": "2022-08-07T16:15:15.118839Z",
     "iopub.status.busy": "2022-08-07T16:15:15.118548Z",
     "iopub.status.idle": "2022-08-07T16:15:15.403947Z",
     "shell.execute_reply": "2022-08-07T16:15:15.403079Z",
     "shell.execute_reply.started": "2022-08-07T16:15:15.118810Z"
    },
    "tags": []
   },
   "outputs": [
    {
     "data": {
      "application/vnd.jupyter.widget-view+json": {
       "model_id": "d9458b108a354c86bbdab07566b89a2b",
       "version_major": 2,
       "version_minor": 0
      },
      "text/plain": [
       "VBox()"
      ]
     },
     "metadata": {},
     "output_type": "display_data"
    },
    {
     "data": {
      "application/vnd.jupyter.widget-view+json": {
       "model_id": "",
       "version_major": 2,
       "version_minor": 0
      },
      "text/plain": [
       "FloatProgress(value=0.0, bar_style='info', description='Progress:', layout=Layout(height='25px', width='50%'),…"
      ]
     },
     "metadata": {},
     "output_type": "display_data"
    }
   ],
   "source": [
    "#### ordenamiento y copia\n",
    "parDF_total= parDF_total.orderBy(\"transaction_date\")\n",
    "base = parDF_total"
   ]
  },
  {
   "cell_type": "code",
   "execution_count": 5,
   "id": "e222fc4c-60ab-4ff9-9036-1fe0ce482c2c",
   "metadata": {
    "execution": {
     "iopub.execute_input": "2022-08-07T16:15:18.862228Z",
     "iopub.status.busy": "2022-08-07T16:15:18.861965Z",
     "iopub.status.idle": "2022-08-07T16:15:19.696450Z",
     "shell.execute_reply": "2022-08-07T16:15:19.695595Z",
     "shell.execute_reply.started": "2022-08-07T16:15:18.862199Z"
    },
    "tags": []
   },
   "outputs": [
    {
     "data": {
      "application/vnd.jupyter.widget-view+json": {
       "model_id": "b9615d42dd1048379e626176ef36b734",
       "version_major": 2,
       "version_minor": 0
      },
      "text/plain": [
       "VBox()"
      ]
     },
     "metadata": {},
     "output_type": "display_data"
    },
    {
     "data": {
      "application/vnd.jupyter.widget-view+json": {
       "model_id": "",
       "version_major": 2,
       "version_minor": 0
      },
      "text/plain": [
       "FloatProgress(value=0.0, bar_style='info', description='Progress:', layout=Layout(height='25px', width='50%'),…"
      ]
     },
     "metadata": {},
     "output_type": "display_data"
    }
   ],
   "source": [
    "### agrupacion por 'subsidiary' y 'account_number'\n",
    "w = Window.partitionBy('subsidiary','account_number').orderBy('transaction_date')\n",
    "\n",
    "df = base.withColumn(\"previous_t\", funcs.lag(base.transaction_date, 1).over(w)).select(base.merchant_id,\n",
    "    base.account_number,base.subsidiary,base.transaction_amount,base.transaction_date,base.transaction_type,\n",
    "    (funcs.unix_timestamp(base.transaction_date) - funcs.unix_timestamp(col('previous_t'))).alias('diference_hour'))\n",
    "\n",
    "### agrupacion por 'subsidiary' y 'account_number'\n",
    "df = df.orderBy(\"transaction_date\")\n",
    "df = df.withColumn('diference_hour', df.diference_hour/3600)\n",
    "df = df.withColumn('targer', when(col('diference_hour') < 24 , '1').otherwise('0'))"
   ]
  },
  {
   "cell_type": "code",
   "execution_count": 6,
   "id": "95600554-6131-48eb-aa80-dd8c77fe4c79",
   "metadata": {
    "execution": {
     "iopub.execute_input": "2022-08-07T16:15:23.021381Z",
     "iopub.status.busy": "2022-08-07T16:15:23.020968Z",
     "iopub.status.idle": "2022-08-07T16:15:23.356552Z",
     "shell.execute_reply": "2022-08-07T16:15:23.355560Z",
     "shell.execute_reply.started": "2022-08-07T16:15:23.021335Z"
    },
    "tags": []
   },
   "outputs": [
    {
     "data": {
      "application/vnd.jupyter.widget-view+json": {
       "model_id": "4830e24917d344459545d58436aabe97",
       "version_major": 2,
       "version_minor": 0
      },
      "text/plain": [
       "VBox()"
      ]
     },
     "metadata": {},
     "output_type": "display_data"
    },
    {
     "data": {
      "application/vnd.jupyter.widget-view+json": {
       "model_id": "",
       "version_major": 2,
       "version_minor": 0
      },
      "text/plain": [
       "FloatProgress(value=0.0, bar_style='info', description='Progress:', layout=Layout(height='25px', width='50%'),…"
      ]
     },
     "metadata": {},
     "output_type": "display_data"
    }
   ],
   "source": [
    "#### creacion nueva variable\n",
    "df=df.select(concat(df.subsidiary,df.account_number)\n",
    "              .alias(\"subsidiary_account_number\"),'merchant_id', 'account_number', 'subsidiary', \n",
    "             'transaction_amount', 'transaction_date', 'diference_hour','transaction_type' ,'targer')"
   ]
  },
  {
   "cell_type": "code",
   "execution_count": 7,
   "id": "25784025-0076-4514-b61f-a897e722ed76",
   "metadata": {
    "execution": {
     "iopub.execute_input": "2022-08-07T16:15:26.503127Z",
     "iopub.status.busy": "2022-08-07T16:15:26.502900Z",
     "iopub.status.idle": "2022-08-07T16:15:26.815370Z",
     "shell.execute_reply": "2022-08-07T16:15:26.814709Z",
     "shell.execute_reply.started": "2022-08-07T16:15:26.503099Z"
    },
    "tags": []
   },
   "outputs": [
    {
     "data": {
      "application/vnd.jupyter.widget-view+json": {
       "model_id": "6da7ff337d794baf98010e883ecec065",
       "version_major": 2,
       "version_minor": 0
      },
      "text/plain": [
       "VBox()"
      ]
     },
     "metadata": {},
     "output_type": "display_data"
    },
    {
     "data": {
      "application/vnd.jupyter.widget-view+json": {
       "model_id": "",
       "version_major": 2,
       "version_minor": 0
      },
      "text/plain": [
       "FloatProgress(value=0.0, bar_style='info', description='Progress:', layout=Layout(height='25px', width='50%'),…"
      ]
     },
     "metadata": {},
     "output_type": "display_data"
    }
   ],
   "source": [
    "### creacion de year and month\n",
    "df = df.withColumn('year',year(df.transaction_date))\n",
    "df = df.withColumn('month',month(df.transaction_date))"
   ]
  },
  {
   "cell_type": "code",
   "execution_count": 8,
   "id": "465d6500-7778-4d4a-a163-ea38c8d7c52a",
   "metadata": {
    "execution": {
     "iopub.execute_input": "2022-08-07T16:15:29.077396Z",
     "iopub.status.busy": "2022-08-07T16:15:29.077164Z",
     "iopub.status.idle": "2022-08-07T16:15:29.174751Z",
     "shell.execute_reply": "2022-08-07T16:15:29.173903Z",
     "shell.execute_reply.started": "2022-08-07T16:15:29.077369Z"
    },
    "tags": []
   },
   "outputs": [
    {
     "data": {
      "application/vnd.jupyter.widget-view+json": {
       "model_id": "ee6c8f73d1cb45ffbbdcfe42579fe9e3",
       "version_major": 2,
       "version_minor": 0
      },
      "text/plain": [
       "VBox()"
      ]
     },
     "metadata": {},
     "output_type": "display_data"
    },
    {
     "data": {
      "application/vnd.jupyter.widget-view+json": {
       "model_id": "",
       "version_major": 2,
       "version_minor": 0
      },
      "text/plain": [
       "FloatProgress(value=0.0, bar_style='info', description='Progress:', layout=Layout(height='25px', width='50%'),…"
      ]
     },
     "metadata": {},
     "output_type": "display_data"
    }
   ],
   "source": [
    "#### funcion para guardar los archivos\n",
    "def save_data(base,path,nombre):\n",
    "    path_salida = path +nombre\n",
    "    base.write.save(path=path_salida,\n",
    "                        format='csv',\n",
    "                        mode='overwrite',\n",
    "                        header='true',\n",
    "                        sep = \";\")\n",
    "    return print(\"guardado\")"
   ]
  },
  {
   "cell_type": "code",
   "execution_count": 12,
   "id": "d18d2328-7541-4357-879b-5e7e18302f5a",
   "metadata": {
    "execution": {
     "iopub.execute_input": "2022-08-07T03:09:39.478412Z",
     "iopub.status.busy": "2022-08-07T03:09:39.478102Z",
     "iopub.status.idle": "2022-08-07T03:12:33.841330Z",
     "shell.execute_reply": "2022-08-07T03:12:33.840127Z",
     "shell.execute_reply.started": "2022-08-07T03:09:39.478372Z"
    },
    "tags": []
   },
   "outputs": [
    {
     "data": {
      "application/vnd.jupyter.widget-view+json": {
       "model_id": "680622c679fe457abd44fde3c3b5072a",
       "version_major": 2,
       "version_minor": 0
      },
      "text/plain": [
       "VBox()"
      ]
     },
     "metadata": {},
     "output_type": "display_data"
    },
    {
     "data": {
      "application/vnd.jupyter.widget-view+json": {
       "model_id": "",
       "version_major": 2,
       "version_minor": 0
      },
      "text/plain": [
       "FloatProgress(value=0.0, bar_style='info', description='Progress:', layout=Layout(height='25px', width='50%'),…"
      ]
     },
     "metadata": {},
     "output_type": "display_data"
    },
    {
     "name": "stdout",
     "output_type": "stream",
     "text": [
      "guardado"
     ]
    }
   ],
   "source": [
    "##### Tablas general #####\n",
    "group_fraude = df.groupBy(\"targer\").agg({'targer': 'count','transaction_amount': 'mean'})\n",
    "save_data(base=group_fraude,path=\"s3n://cristian-gaviria-nequi/Variables_creadas/\",nombre=\"group_fraude\")"
   ]
  },
  {
   "cell_type": "code",
   "execution_count": 13,
   "id": "a5b7de7d-4a94-422a-a6c1-634d3810a30f",
   "metadata": {
    "execution": {
     "iopub.execute_input": "2022-08-07T03:12:47.202178Z",
     "iopub.status.busy": "2022-08-07T03:12:47.201872Z",
     "iopub.status.idle": "2022-08-07T03:18:16.221965Z",
     "shell.execute_reply": "2022-08-07T03:18:16.219759Z",
     "shell.execute_reply.started": "2022-08-07T03:12:47.202142Z"
    },
    "tags": []
   },
   "outputs": [
    {
     "data": {
      "application/vnd.jupyter.widget-view+json": {
       "model_id": "4dc09bee7c6844a287392ce6ff359990",
       "version_major": 2,
       "version_minor": 0
      },
      "text/plain": [
       "VBox()"
      ]
     },
     "metadata": {},
     "output_type": "display_data"
    },
    {
     "data": {
      "application/vnd.jupyter.widget-view+json": {
       "model_id": "",
       "version_major": 2,
       "version_minor": 0
      },
      "text/plain": [
       "FloatProgress(value=0.0, bar_style='info', description='Progress:', layout=Layout(height='25px', width='50%'),…"
      ]
     },
     "metadata": {},
     "output_type": "display_data"
    },
    {
     "name": "stdout",
     "output_type": "stream",
     "text": [
      "guardado"
     ]
    }
   ],
   "source": [
    "##### Tablas por year #####\n",
    "group_year = df.groupBy(\"year\").pivot(\"targer\").agg({'targer': 'count','transaction_amount': 'mean'})\n",
    "save_data(base=group_year,path=\"s3n://cristian-gaviria-nequi/Variables_creadas/\",nombre=\"group_year\")"
   ]
  },
  {
   "cell_type": "code",
   "execution_count": 10,
   "id": "de617552-3737-45d8-a6f8-f89916870266",
   "metadata": {
    "execution": {
     "iopub.execute_input": "2022-08-07T04:14:47.312329Z",
     "iopub.status.busy": "2022-08-07T04:14:47.312021Z",
     "iopub.status.idle": "2022-08-07T04:19:28.425458Z",
     "shell.execute_reply": "2022-08-07T04:19:28.423830Z",
     "shell.execute_reply.started": "2022-08-07T04:14:47.312294Z"
    },
    "tags": []
   },
   "outputs": [
    {
     "data": {
      "application/vnd.jupyter.widget-view+json": {
       "model_id": "9a556b743ee34a58b4ddc097583473a4",
       "version_major": 2,
       "version_minor": 0
      },
      "text/plain": [
       "VBox()"
      ]
     },
     "metadata": {},
     "output_type": "display_data"
    },
    {
     "data": {
      "application/vnd.jupyter.widget-view+json": {
       "model_id": "",
       "version_major": 2,
       "version_minor": 0
      },
      "text/plain": [
       "FloatProgress(value=0.0, bar_style='info', description='Progress:', layout=Layout(height='25px', width='50%'),…"
      ]
     },
     "metadata": {},
     "output_type": "display_data"
    },
    {
     "name": "stdout",
     "output_type": "stream",
     "text": [
      "guardado"
     ]
    }
   ],
   "source": [
    "##### Tablas month #####\n",
    "group_month = df.groupBy(\"month\").pivot(\"targer\").agg({'targer': 'count','transaction_amount': 'mean'})\n",
    "save_data(base=group_month,path=\"s3n://cristian-gaviria-nequi/Variables_creadas/\",nombre=\"group_month\")"
   ]
  },
  {
   "cell_type": "code",
   "execution_count": null,
   "id": "ad83d9e3-49ac-43e0-8f75-55d64a46243c",
   "metadata": {
    "execution": {
     "iopub.execute_input": "2022-08-07T14:09:16.720131Z",
     "iopub.status.busy": "2022-08-07T14:09:16.719687Z"
    },
    "tags": []
   },
   "outputs": [
    {
     "data": {
      "application/vnd.jupyter.widget-view+json": {
       "model_id": "176080b003d246dd9e95907f6605d7ab",
       "version_major": 2,
       "version_minor": 0
      },
      "text/plain": [
       "VBox()"
      ]
     },
     "metadata": {},
     "output_type": "display_data"
    },
    {
     "data": {
      "application/vnd.jupyter.widget-view+json": {
       "model_id": "c53c3163d70044079b2023e547b5fc05",
       "version_major": 2,
       "version_minor": 0
      },
      "text/plain": [
       "FloatProgress(value=0.0, bar_style='info', description='Progress:', layout=Layout(height='25px', width='50%'),…"
      ]
     },
     "metadata": {},
     "output_type": "display_data"
    }
   ],
   "source": [
    "##### Tabla por  merchant_id #####\n",
    "group_fraude_merchant_id = df.groupBy(\"merchant_id\").pivot(\"targer\").count()\n",
    "save_data(base=group_fraude_merchant_id,path=\"s3n://cristian-gaviria-nequi/Variables_creadas/\",nombre=\"group_fraude_merchant_id\")"
   ]
  },
  {
   "cell_type": "code",
   "execution_count": null,
   "id": "9dbfa4ae-d92d-463b-99b9-9957718cf898",
   "metadata": {},
   "outputs": [],
   "source": [
    "##### Tabla por  account_number #####\n",
    "group_fraude_account_number = df.groupBy(\"account_number\").pivot(\"targer\").count()\n",
    "save_data(base=group_fraude_account_number,path=\"s3n://cristian-gaviria-nequi/Variables_creadas/\",nombre=\"group_fraude_account_number\")"
   ]
  },
  {
   "cell_type": "code",
   "execution_count": null,
   "id": "4678ade8-d1bb-479f-a475-ee8d13b33f4b",
   "metadata": {},
   "outputs": [],
   "source": [
    "##### Tabla por  subsidiary #####\n",
    "group_fraude_subsidiary = df.groupBy(\"subsidiary\").pivot(\"targer\").count()\n",
    "save_data(base=group_fraude_subsidiary,path=\"s3n://cristian-gaviria-nequi/Variables_creadas/\",nombre=\"group_fraude_subsidiary\")"
   ]
  },
  {
   "cell_type": "code",
   "execution_count": null,
   "id": "8242c27e-13f7-4450-9ef6-64558a4d6708",
   "metadata": {},
   "outputs": [],
   "source": [
    "##### Tabla por  subsidiary_account_number #####\n",
    "group_fraude_subsidiary_account = df.groupBy(\"subsidiary_account_number\").pivot(\"targer\").count()\n",
    "save_data(base=group_fraude_subsidiary_account,path=\"s3n://cristian-gaviria-nequi/Variables_creadas/\",nombre=\"group_fraude_subsidiary_account\")"
   ]
  },
  {
   "cell_type": "code",
   "execution_count": null,
   "id": "e74e2f0c-efb5-4573-8de8-9066775c26c5",
   "metadata": {},
   "outputs": [],
   "source": [
    "##### Tabla por  subsidiary_account_number #####\n",
    "group_fraude_transaction_type = df.groupBy(\"transaction_type\").pivot(\"targer\").count()"
   ]
  },
  {
   "cell_type": "code",
   "execution_count": 9,
   "id": "3cd54f51-80ed-4ff9-b62f-cf6357196837",
   "metadata": {
    "execution": {
     "iopub.execute_input": "2022-08-07T16:15:40.298584Z",
     "iopub.status.busy": "2022-08-07T16:15:40.298342Z",
     "iopub.status.idle": "2022-08-07T16:15:40.373940Z",
     "shell.execute_reply": "2022-08-07T16:15:40.373208Z",
     "shell.execute_reply.started": "2022-08-07T16:15:40.298556Z"
    },
    "tags": []
   },
   "outputs": [
    {
     "data": {
      "application/vnd.jupyter.widget-view+json": {
       "model_id": "470b46b470f14aa6b978321b3151aa96",
       "version_major": 2,
       "version_minor": 0
      },
      "text/plain": [
       "VBox()"
      ]
     },
     "metadata": {},
     "output_type": "display_data"
    },
    {
     "data": {
      "application/vnd.jupyter.widget-view+json": {
       "model_id": "",
       "version_major": 2,
       "version_minor": 0
      },
      "text/plain": [
       "FloatProgress(value=0.0, bar_style='info', description='Progress:', layout=Layout(height='25px', width='50%'),…"
      ]
     },
     "metadata": {},
     "output_type": "display_data"
    }
   ],
   "source": [
    "import pyspark.sql.functions as F\n",
    "from pyspark.sql.functions import current_timestamp"
   ]
  },
  {
   "cell_type": "code",
   "execution_count": 10,
   "id": "0306dada-dffc-41d6-9c3a-23e99369ce6c",
   "metadata": {
    "execution": {
     "iopub.execute_input": "2022-08-07T16:15:42.968592Z",
     "iopub.status.busy": "2022-08-07T16:15:42.968222Z",
     "iopub.status.idle": "2022-08-07T16:15:50.356594Z",
     "shell.execute_reply": "2022-08-07T16:15:50.355631Z",
     "shell.execute_reply.started": "2022-08-07T16:15:42.968544Z"
    },
    "tags": []
   },
   "outputs": [
    {
     "data": {
      "application/vnd.jupyter.widget-view+json": {
       "model_id": "fed0358f0015482eaf1dbb3feb7d5b26",
       "version_major": 2,
       "version_minor": 0
      },
      "text/plain": [
       "VBox()"
      ]
     },
     "metadata": {},
     "output_type": "display_data"
    },
    {
     "data": {
      "application/vnd.jupyter.widget-view+json": {
       "model_id": "",
       "version_major": 2,
       "version_minor": 0
      },
      "text/plain": [
       "FloatProgress(value=0.0, bar_style='info', description='Progress:', layout=Layout(height='25px', width='50%'),…"
      ]
     },
     "metadata": {},
     "output_type": "display_data"
    }
   ],
   "source": [
    "production = False\n",
    "\n",
    "if production:\n",
    "    data=[[\"1\"]]\n",
    "    today=spark.createDataFrame(data,[\"id\"])\n",
    "    today = today.withColumn(\"now\", current_timestamp())\n",
    "    today = today.withColumn('intervalo', today.now - F.expr('INTERVAL 240 HOURS'))\n",
    "    fecha= today.collect()[0][1]\n",
    "else:\n",
    "    today=spark.createDataFrame(\n",
    "        data  = [ (\"1\",\"2021-11-30 23:59:53\")],\n",
    "        schema=[\"id\",\"now\"])\n",
    "    today = today.withColumn('intervalo', today.now - F.expr('INTERVAL 240 HOURS'))\n",
    "    fecha= today.collect()[0][2]\n"
   ]
  },
  {
   "cell_type": "code",
   "execution_count": 11,
   "id": "ff763416-be10-4108-82c1-0375883e8b5f",
   "metadata": {
    "execution": {
     "iopub.execute_input": "2022-08-07T16:15:54.599945Z",
     "iopub.status.busy": "2022-08-07T16:15:54.599701Z",
     "iopub.status.idle": "2022-08-07T16:15:54.684612Z",
     "shell.execute_reply": "2022-08-07T16:15:54.683771Z",
     "shell.execute_reply.started": "2022-08-07T16:15:54.599917Z"
    },
    "tags": []
   },
   "outputs": [
    {
     "data": {
      "application/vnd.jupyter.widget-view+json": {
       "model_id": "5be510cbc9d24aa18d4921e30269a3cd",
       "version_major": 2,
       "version_minor": 0
      },
      "text/plain": [
       "VBox()"
      ]
     },
     "metadata": {},
     "output_type": "display_data"
    },
    {
     "data": {
      "application/vnd.jupyter.widget-view+json": {
       "model_id": "",
       "version_major": 2,
       "version_minor": 0
      },
      "text/plain": [
       "FloatProgress(value=0.0, bar_style='info', description='Progress:', layout=Layout(height='25px', width='50%'),…"
      ]
     },
     "metadata": {},
     "output_type": "display_data"
    },
    {
     "name": "stdout",
     "output_type": "stream",
     "text": [
      "'2021-11-20 23:59:53'"
     ]
    }
   ],
   "source": [
    "fecha"
   ]
  },
  {
   "cell_type": "code",
   "execution_count": 12,
   "id": "ac8bb756-2803-42c0-a40f-f17d0a32233f",
   "metadata": {
    "execution": {
     "iopub.execute_input": "2022-08-07T16:16:03.291800Z",
     "iopub.status.busy": "2022-08-07T16:16:03.291434Z",
     "iopub.status.idle": "2022-08-07T16:16:34.791138Z",
     "shell.execute_reply": "2022-08-07T16:16:34.790275Z",
     "shell.execute_reply.started": "2022-08-07T16:16:03.291755Z"
    },
    "tags": []
   },
   "outputs": [
    {
     "data": {
      "application/vnd.jupyter.widget-view+json": {
       "model_id": "3834e957b27941ba85d7e835873db7d9",
       "version_major": 2,
       "version_minor": 0
      },
      "text/plain": [
       "VBox()"
      ]
     },
     "metadata": {},
     "output_type": "display_data"
    },
    {
     "data": {
      "application/vnd.jupyter.widget-view+json": {
       "model_id": "",
       "version_major": 2,
       "version_minor": 0
      },
      "text/plain": [
       "FloatProgress(value=0.0, bar_style='info', description='Progress:', layout=Layout(height='25px', width='50%'),…"
      ]
     },
     "metadata": {},
     "output_type": "display_data"
    },
    {
     "name": "stdout",
     "output_type": "stream",
     "text": [
      "3073220"
     ]
    }
   ],
   "source": [
    "dffilter = df.filter(df['transaction_date'] >= fecha)\n",
    "dffilter.count()"
   ]
  },
  {
   "cell_type": "code",
   "execution_count": null,
   "id": "a63ddf28-9d93-4f7f-b07b-f10c9b95ea59",
   "metadata": {
    "execution": {
     "iopub.execute_input": "2022-08-07T15:42:34.883254Z",
     "iopub.status.busy": "2022-08-07T15:42:34.882989Z"
    },
    "tags": []
   },
   "outputs": [
    {
     "data": {
      "application/vnd.jupyter.widget-view+json": {
       "model_id": "620528545dd846d187bf590d4a1b3da1",
       "version_major": 2,
       "version_minor": 0
      },
      "text/plain": [
       "VBox()"
      ]
     },
     "metadata": {},
     "output_type": "display_data"
    },
    {
     "data": {
      "application/vnd.jupyter.widget-view+json": {
       "model_id": "4e93157120574c1f9389a5f596fd585d",
       "version_major": 2,
       "version_minor": 0
      },
      "text/plain": [
       "FloatProgress(value=0.0, bar_style='info', description='Progress:', layout=Layout(height='25px', width='50%'),…"
      ]
     },
     "metadata": {},
     "output_type": "display_data"
    }
   ],
   "source": [
    "save_data(base=dffilter,path=\"s3n://cristian-gaviria-nequi/Variables_creadas/\",nombre=\"dffilter\")"
   ]
  },
  {
   "cell_type": "code",
   "execution_count": null,
   "id": "41b93094-f328-4397-99aa-d4d4081372a2",
   "metadata": {},
   "outputs": [],
   "source": [
    "sc.install_pypi_package(\"Cython\")"
   ]
  },
  {
   "cell_type": "code",
   "execution_count": null,
   "id": "420a46dc-c329-412c-8ddf-f6296b0289bd",
   "metadata": {
    "execution": {
     "iopub.execute_input": "2022-08-07T16:19:14.601384Z",
     "iopub.status.busy": "2022-08-07T16:19:14.601136Z"
    },
    "tags": []
   },
   "outputs": [
    {
     "data": {
      "application/vnd.jupyter.widget-view+json": {
       "model_id": "2da5d40f335443bd9888dd5831ff80e1",
       "version_major": 2,
       "version_minor": 0
      },
      "text/plain": [
       "VBox()"
      ]
     },
     "metadata": {},
     "output_type": "display_data"
    },
    {
     "data": {
      "application/vnd.jupyter.widget-view+json": {
       "model_id": "1a1bb26d92714ec5836530f4848828ac",
       "version_major": 2,
       "version_minor": 0
      },
      "text/plain": [
       "FloatProgress(value=0.0, bar_style='info', description='Progress:', layout=Layout(height='25px', width='50%'),…"
      ]
     },
     "metadata": {},
     "output_type": "display_data"
    }
   ],
   "source": [
    "sc.install_pypi_package(\"pandas\")"
   ]
  },
  {
   "cell_type": "code",
   "execution_count": null,
   "id": "d5567add-9f21-41e0-8b7a-1f77d365888e",
   "metadata": {},
   "outputs": [],
   "source": [
    "pandasDF = dffilter.toPandas()"
   ]
  },
  {
   "cell_type": "code",
   "execution_count": null,
   "id": "f8821373-97a3-48f3-a16e-83359df40564",
   "metadata": {},
   "outputs": [],
   "source": [
    "pandasDF.to_csv('s3n://cristian-gaviria-nequi/Variables_creadas/result_filter_mod.csv',index=False)"
   ]
  }
 ],
 "metadata": {
  "kernelspec": {
   "display_name": "PySpark",
   "language": "",
   "name": "pysparkkernel"
  },
  "language_info": {
   "codemirror_mode": {
    "name": "python",
    "version": 3
   },
   "mimetype": "text/x-python",
   "name": "pyspark",
   "pygments_lexer": "python3"
  }
 },
 "nbformat": 4,
 "nbformat_minor": 5
}
